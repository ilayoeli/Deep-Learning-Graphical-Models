{
  "nbformat": 4,
  "nbformat_minor": 0,
  "metadata": {
    "colab": {
      "provenance": []
    },
    "kernelspec": {
      "name": "python3",
      "display_name": "Python 3"
    },
    "language_info": {
      "name": "python"
    },
    "widgets": {
      "application/vnd.jupyter.widget-state+json": {
        "ad78f6f8bc9a44d3be7def0746b0b2b4": {
          "model_module": "@jupyter-widgets/controls",
          "model_name": "HBoxModel",
          "model_module_version": "1.5.0",
          "state": {
            "_dom_classes": [],
            "_model_module": "@jupyter-widgets/controls",
            "_model_module_version": "1.5.0",
            "_model_name": "HBoxModel",
            "_view_count": null,
            "_view_module": "@jupyter-widgets/controls",
            "_view_module_version": "1.5.0",
            "_view_name": "HBoxView",
            "box_style": "",
            "children": [
              "IPY_MODEL_7dbc881a3e9643f29760fb0e87b24a5d",
              "IPY_MODEL_702786cbbc884d1f97d2924dfbc59642",
              "IPY_MODEL_ca36faba1d2d48c383518e192df3ab44"
            ],
            "layout": "IPY_MODEL_ca652acd58d443deb6cd4e78adea4bd6"
          }
        },
        "7dbc881a3e9643f29760fb0e87b24a5d": {
          "model_module": "@jupyter-widgets/controls",
          "model_name": "HTMLModel",
          "model_module_version": "1.5.0",
          "state": {
            "_dom_classes": [],
            "_model_module": "@jupyter-widgets/controls",
            "_model_module_version": "1.5.0",
            "_model_name": "HTMLModel",
            "_view_count": null,
            "_view_module": "@jupyter-widgets/controls",
            "_view_module_version": "1.5.0",
            "_view_name": "HTMLView",
            "description": "",
            "description_tooltip": null,
            "layout": "IPY_MODEL_e8d0f161ca434d4391edc4c9a4cb5cfe",
            "placeholder": "​",
            "style": "IPY_MODEL_72eaf8558b124aef850d499315a00da7",
            "value": "100%"
          }
        },
        "702786cbbc884d1f97d2924dfbc59642": {
          "model_module": "@jupyter-widgets/controls",
          "model_name": "FloatProgressModel",
          "model_module_version": "1.5.0",
          "state": {
            "_dom_classes": [],
            "_model_module": "@jupyter-widgets/controls",
            "_model_module_version": "1.5.0",
            "_model_name": "FloatProgressModel",
            "_view_count": null,
            "_view_module": "@jupyter-widgets/controls",
            "_view_module_version": "1.5.0",
            "_view_name": "ProgressView",
            "bar_style": "success",
            "description": "",
            "description_tooltip": null,
            "layout": "IPY_MODEL_1b058be85d7946fb9386ed04d565701e",
            "max": 10000,
            "min": 0,
            "orientation": "horizontal",
            "style": "IPY_MODEL_91a1c26c079f4e6db67a7a237eec3fa3",
            "value": 10000
          }
        },
        "ca36faba1d2d48c383518e192df3ab44": {
          "model_module": "@jupyter-widgets/controls",
          "model_name": "HTMLModel",
          "model_module_version": "1.5.0",
          "state": {
            "_dom_classes": [],
            "_model_module": "@jupyter-widgets/controls",
            "_model_module_version": "1.5.0",
            "_model_name": "HTMLModel",
            "_view_count": null,
            "_view_module": "@jupyter-widgets/controls",
            "_view_module_version": "1.5.0",
            "_view_name": "HTMLView",
            "description": "",
            "description_tooltip": null,
            "layout": "IPY_MODEL_8eaa30615cc34efcac22ace3dd56febf",
            "placeholder": "​",
            "style": "IPY_MODEL_6f7497aaa32f46fcbbba104187888e78",
            "value": " 10000/10000 [03:27&lt;00:00, 55.81it/s]"
          }
        },
        "ca652acd58d443deb6cd4e78adea4bd6": {
          "model_module": "@jupyter-widgets/base",
          "model_name": "LayoutModel",
          "model_module_version": "1.2.0",
          "state": {
            "_model_module": "@jupyter-widgets/base",
            "_model_module_version": "1.2.0",
            "_model_name": "LayoutModel",
            "_view_count": null,
            "_view_module": "@jupyter-widgets/base",
            "_view_module_version": "1.2.0",
            "_view_name": "LayoutView",
            "align_content": null,
            "align_items": null,
            "align_self": null,
            "border": null,
            "bottom": null,
            "display": null,
            "flex": null,
            "flex_flow": null,
            "grid_area": null,
            "grid_auto_columns": null,
            "grid_auto_flow": null,
            "grid_auto_rows": null,
            "grid_column": null,
            "grid_gap": null,
            "grid_row": null,
            "grid_template_areas": null,
            "grid_template_columns": null,
            "grid_template_rows": null,
            "height": null,
            "justify_content": null,
            "justify_items": null,
            "left": null,
            "margin": null,
            "max_height": null,
            "max_width": null,
            "min_height": null,
            "min_width": null,
            "object_fit": null,
            "object_position": null,
            "order": null,
            "overflow": null,
            "overflow_x": null,
            "overflow_y": null,
            "padding": null,
            "right": null,
            "top": null,
            "visibility": null,
            "width": null
          }
        },
        "e8d0f161ca434d4391edc4c9a4cb5cfe": {
          "model_module": "@jupyter-widgets/base",
          "model_name": "LayoutModel",
          "model_module_version": "1.2.0",
          "state": {
            "_model_module": "@jupyter-widgets/base",
            "_model_module_version": "1.2.0",
            "_model_name": "LayoutModel",
            "_view_count": null,
            "_view_module": "@jupyter-widgets/base",
            "_view_module_version": "1.2.0",
            "_view_name": "LayoutView",
            "align_content": null,
            "align_items": null,
            "align_self": null,
            "border": null,
            "bottom": null,
            "display": null,
            "flex": null,
            "flex_flow": null,
            "grid_area": null,
            "grid_auto_columns": null,
            "grid_auto_flow": null,
            "grid_auto_rows": null,
            "grid_column": null,
            "grid_gap": null,
            "grid_row": null,
            "grid_template_areas": null,
            "grid_template_columns": null,
            "grid_template_rows": null,
            "height": null,
            "justify_content": null,
            "justify_items": null,
            "left": null,
            "margin": null,
            "max_height": null,
            "max_width": null,
            "min_height": null,
            "min_width": null,
            "object_fit": null,
            "object_position": null,
            "order": null,
            "overflow": null,
            "overflow_x": null,
            "overflow_y": null,
            "padding": null,
            "right": null,
            "top": null,
            "visibility": null,
            "width": null
          }
        },
        "72eaf8558b124aef850d499315a00da7": {
          "model_module": "@jupyter-widgets/controls",
          "model_name": "DescriptionStyleModel",
          "model_module_version": "1.5.0",
          "state": {
            "_model_module": "@jupyter-widgets/controls",
            "_model_module_version": "1.5.0",
            "_model_name": "DescriptionStyleModel",
            "_view_count": null,
            "_view_module": "@jupyter-widgets/base",
            "_view_module_version": "1.2.0",
            "_view_name": "StyleView",
            "description_width": ""
          }
        },
        "1b058be85d7946fb9386ed04d565701e": {
          "model_module": "@jupyter-widgets/base",
          "model_name": "LayoutModel",
          "model_module_version": "1.2.0",
          "state": {
            "_model_module": "@jupyter-widgets/base",
            "_model_module_version": "1.2.0",
            "_model_name": "LayoutModel",
            "_view_count": null,
            "_view_module": "@jupyter-widgets/base",
            "_view_module_version": "1.2.0",
            "_view_name": "LayoutView",
            "align_content": null,
            "align_items": null,
            "align_self": null,
            "border": null,
            "bottom": null,
            "display": null,
            "flex": null,
            "flex_flow": null,
            "grid_area": null,
            "grid_auto_columns": null,
            "grid_auto_flow": null,
            "grid_auto_rows": null,
            "grid_column": null,
            "grid_gap": null,
            "grid_row": null,
            "grid_template_areas": null,
            "grid_template_columns": null,
            "grid_template_rows": null,
            "height": null,
            "justify_content": null,
            "justify_items": null,
            "left": null,
            "margin": null,
            "max_height": null,
            "max_width": null,
            "min_height": null,
            "min_width": null,
            "object_fit": null,
            "object_position": null,
            "order": null,
            "overflow": null,
            "overflow_x": null,
            "overflow_y": null,
            "padding": null,
            "right": null,
            "top": null,
            "visibility": null,
            "width": null
          }
        },
        "91a1c26c079f4e6db67a7a237eec3fa3": {
          "model_module": "@jupyter-widgets/controls",
          "model_name": "ProgressStyleModel",
          "model_module_version": "1.5.0",
          "state": {
            "_model_module": "@jupyter-widgets/controls",
            "_model_module_version": "1.5.0",
            "_model_name": "ProgressStyleModel",
            "_view_count": null,
            "_view_module": "@jupyter-widgets/base",
            "_view_module_version": "1.2.0",
            "_view_name": "StyleView",
            "bar_color": null,
            "description_width": ""
          }
        },
        "8eaa30615cc34efcac22ace3dd56febf": {
          "model_module": "@jupyter-widgets/base",
          "model_name": "LayoutModel",
          "model_module_version": "1.2.0",
          "state": {
            "_model_module": "@jupyter-widgets/base",
            "_model_module_version": "1.2.0",
            "_model_name": "LayoutModel",
            "_view_count": null,
            "_view_module": "@jupyter-widgets/base",
            "_view_module_version": "1.2.0",
            "_view_name": "LayoutView",
            "align_content": null,
            "align_items": null,
            "align_self": null,
            "border": null,
            "bottom": null,
            "display": null,
            "flex": null,
            "flex_flow": null,
            "grid_area": null,
            "grid_auto_columns": null,
            "grid_auto_flow": null,
            "grid_auto_rows": null,
            "grid_column": null,
            "grid_gap": null,
            "grid_row": null,
            "grid_template_areas": null,
            "grid_template_columns": null,
            "grid_template_rows": null,
            "height": null,
            "justify_content": null,
            "justify_items": null,
            "left": null,
            "margin": null,
            "max_height": null,
            "max_width": null,
            "min_height": null,
            "min_width": null,
            "object_fit": null,
            "object_position": null,
            "order": null,
            "overflow": null,
            "overflow_x": null,
            "overflow_y": null,
            "padding": null,
            "right": null,
            "top": null,
            "visibility": null,
            "width": null
          }
        },
        "6f7497aaa32f46fcbbba104187888e78": {
          "model_module": "@jupyter-widgets/controls",
          "model_name": "DescriptionStyleModel",
          "model_module_version": "1.5.0",
          "state": {
            "_model_module": "@jupyter-widgets/controls",
            "_model_module_version": "1.5.0",
            "_model_name": "DescriptionStyleModel",
            "_view_count": null,
            "_view_module": "@jupyter-widgets/base",
            "_view_module_version": "1.2.0",
            "_view_name": "StyleView",
            "description_width": ""
          }
        },
        "1123a7d0ed1947829868193bbd0a76d8": {
          "model_module": "@jupyter-widgets/controls",
          "model_name": "HBoxModel",
          "model_module_version": "1.5.0",
          "state": {
            "_dom_classes": [],
            "_model_module": "@jupyter-widgets/controls",
            "_model_module_version": "1.5.0",
            "_model_name": "HBoxModel",
            "_view_count": null,
            "_view_module": "@jupyter-widgets/controls",
            "_view_module_version": "1.5.0",
            "_view_name": "HBoxView",
            "box_style": "",
            "children": [
              "IPY_MODEL_3ced2550a0bc46e5bdd3744a91731042",
              "IPY_MODEL_cbd07ef6b3c34604bfabd036c0c35e1a",
              "IPY_MODEL_7353fff71769475bafc39a5950a637f9"
            ],
            "layout": "IPY_MODEL_a6675734d8614027a2302d97146860e8"
          }
        },
        "3ced2550a0bc46e5bdd3744a91731042": {
          "model_module": "@jupyter-widgets/controls",
          "model_name": "HTMLModel",
          "model_module_version": "1.5.0",
          "state": {
            "_dom_classes": [],
            "_model_module": "@jupyter-widgets/controls",
            "_model_module_version": "1.5.0",
            "_model_name": "HTMLModel",
            "_view_count": null,
            "_view_module": "@jupyter-widgets/controls",
            "_view_module_version": "1.5.0",
            "_view_name": "HTMLView",
            "description": "",
            "description_tooltip": null,
            "layout": "IPY_MODEL_bef097eac72a4133bfe2f8353f9ebbf1",
            "placeholder": "​",
            "style": "IPY_MODEL_dc3a3941ba1e431aaed96fbb5b352c6d",
            "value": "100%"
          }
        },
        "cbd07ef6b3c34604bfabd036c0c35e1a": {
          "model_module": "@jupyter-widgets/controls",
          "model_name": "FloatProgressModel",
          "model_module_version": "1.5.0",
          "state": {
            "_dom_classes": [],
            "_model_module": "@jupyter-widgets/controls",
            "_model_module_version": "1.5.0",
            "_model_name": "FloatProgressModel",
            "_view_count": null,
            "_view_module": "@jupyter-widgets/controls",
            "_view_module_version": "1.5.0",
            "_view_name": "ProgressView",
            "bar_style": "success",
            "description": "",
            "description_tooltip": null,
            "layout": "IPY_MODEL_04aa281a330345f29961505f6fe702e9",
            "max": 10000,
            "min": 0,
            "orientation": "horizontal",
            "style": "IPY_MODEL_603b138e78af4faf9c12c8aa29e984cc",
            "value": 10000
          }
        },
        "7353fff71769475bafc39a5950a637f9": {
          "model_module": "@jupyter-widgets/controls",
          "model_name": "HTMLModel",
          "model_module_version": "1.5.0",
          "state": {
            "_dom_classes": [],
            "_model_module": "@jupyter-widgets/controls",
            "_model_module_version": "1.5.0",
            "_model_name": "HTMLModel",
            "_view_count": null,
            "_view_module": "@jupyter-widgets/controls",
            "_view_module_version": "1.5.0",
            "_view_name": "HTMLView",
            "description": "",
            "description_tooltip": null,
            "layout": "IPY_MODEL_8e6e68e9f24545efa54b6d1a65084f6c",
            "placeholder": "​",
            "style": "IPY_MODEL_9b4fded1c99648889dd509b3c33e6036",
            "value": " 10000/10000 [03:20&lt;00:00, 54.73it/s]"
          }
        },
        "a6675734d8614027a2302d97146860e8": {
          "model_module": "@jupyter-widgets/base",
          "model_name": "LayoutModel",
          "model_module_version": "1.2.0",
          "state": {
            "_model_module": "@jupyter-widgets/base",
            "_model_module_version": "1.2.0",
            "_model_name": "LayoutModel",
            "_view_count": null,
            "_view_module": "@jupyter-widgets/base",
            "_view_module_version": "1.2.0",
            "_view_name": "LayoutView",
            "align_content": null,
            "align_items": null,
            "align_self": null,
            "border": null,
            "bottom": null,
            "display": null,
            "flex": null,
            "flex_flow": null,
            "grid_area": null,
            "grid_auto_columns": null,
            "grid_auto_flow": null,
            "grid_auto_rows": null,
            "grid_column": null,
            "grid_gap": null,
            "grid_row": null,
            "grid_template_areas": null,
            "grid_template_columns": null,
            "grid_template_rows": null,
            "height": null,
            "justify_content": null,
            "justify_items": null,
            "left": null,
            "margin": null,
            "max_height": null,
            "max_width": null,
            "min_height": null,
            "min_width": null,
            "object_fit": null,
            "object_position": null,
            "order": null,
            "overflow": null,
            "overflow_x": null,
            "overflow_y": null,
            "padding": null,
            "right": null,
            "top": null,
            "visibility": null,
            "width": null
          }
        },
        "bef097eac72a4133bfe2f8353f9ebbf1": {
          "model_module": "@jupyter-widgets/base",
          "model_name": "LayoutModel",
          "model_module_version": "1.2.0",
          "state": {
            "_model_module": "@jupyter-widgets/base",
            "_model_module_version": "1.2.0",
            "_model_name": "LayoutModel",
            "_view_count": null,
            "_view_module": "@jupyter-widgets/base",
            "_view_module_version": "1.2.0",
            "_view_name": "LayoutView",
            "align_content": null,
            "align_items": null,
            "align_self": null,
            "border": null,
            "bottom": null,
            "display": null,
            "flex": null,
            "flex_flow": null,
            "grid_area": null,
            "grid_auto_columns": null,
            "grid_auto_flow": null,
            "grid_auto_rows": null,
            "grid_column": null,
            "grid_gap": null,
            "grid_row": null,
            "grid_template_areas": null,
            "grid_template_columns": null,
            "grid_template_rows": null,
            "height": null,
            "justify_content": null,
            "justify_items": null,
            "left": null,
            "margin": null,
            "max_height": null,
            "max_width": null,
            "min_height": null,
            "min_width": null,
            "object_fit": null,
            "object_position": null,
            "order": null,
            "overflow": null,
            "overflow_x": null,
            "overflow_y": null,
            "padding": null,
            "right": null,
            "top": null,
            "visibility": null,
            "width": null
          }
        },
        "dc3a3941ba1e431aaed96fbb5b352c6d": {
          "model_module": "@jupyter-widgets/controls",
          "model_name": "DescriptionStyleModel",
          "model_module_version": "1.5.0",
          "state": {
            "_model_module": "@jupyter-widgets/controls",
            "_model_module_version": "1.5.0",
            "_model_name": "DescriptionStyleModel",
            "_view_count": null,
            "_view_module": "@jupyter-widgets/base",
            "_view_module_version": "1.2.0",
            "_view_name": "StyleView",
            "description_width": ""
          }
        },
        "04aa281a330345f29961505f6fe702e9": {
          "model_module": "@jupyter-widgets/base",
          "model_name": "LayoutModel",
          "model_module_version": "1.2.0",
          "state": {
            "_model_module": "@jupyter-widgets/base",
            "_model_module_version": "1.2.0",
            "_model_name": "LayoutModel",
            "_view_count": null,
            "_view_module": "@jupyter-widgets/base",
            "_view_module_version": "1.2.0",
            "_view_name": "LayoutView",
            "align_content": null,
            "align_items": null,
            "align_self": null,
            "border": null,
            "bottom": null,
            "display": null,
            "flex": null,
            "flex_flow": null,
            "grid_area": null,
            "grid_auto_columns": null,
            "grid_auto_flow": null,
            "grid_auto_rows": null,
            "grid_column": null,
            "grid_gap": null,
            "grid_row": null,
            "grid_template_areas": null,
            "grid_template_columns": null,
            "grid_template_rows": null,
            "height": null,
            "justify_content": null,
            "justify_items": null,
            "left": null,
            "margin": null,
            "max_height": null,
            "max_width": null,
            "min_height": null,
            "min_width": null,
            "object_fit": null,
            "object_position": null,
            "order": null,
            "overflow": null,
            "overflow_x": null,
            "overflow_y": null,
            "padding": null,
            "right": null,
            "top": null,
            "visibility": null,
            "width": null
          }
        },
        "603b138e78af4faf9c12c8aa29e984cc": {
          "model_module": "@jupyter-widgets/controls",
          "model_name": "ProgressStyleModel",
          "model_module_version": "1.5.0",
          "state": {
            "_model_module": "@jupyter-widgets/controls",
            "_model_module_version": "1.5.0",
            "_model_name": "ProgressStyleModel",
            "_view_count": null,
            "_view_module": "@jupyter-widgets/base",
            "_view_module_version": "1.2.0",
            "_view_name": "StyleView",
            "bar_color": null,
            "description_width": ""
          }
        },
        "8e6e68e9f24545efa54b6d1a65084f6c": {
          "model_module": "@jupyter-widgets/base",
          "model_name": "LayoutModel",
          "model_module_version": "1.2.0",
          "state": {
            "_model_module": "@jupyter-widgets/base",
            "_model_module_version": "1.2.0",
            "_model_name": "LayoutModel",
            "_view_count": null,
            "_view_module": "@jupyter-widgets/base",
            "_view_module_version": "1.2.0",
            "_view_name": "LayoutView",
            "align_content": null,
            "align_items": null,
            "align_self": null,
            "border": null,
            "bottom": null,
            "display": null,
            "flex": null,
            "flex_flow": null,
            "grid_area": null,
            "grid_auto_columns": null,
            "grid_auto_flow": null,
            "grid_auto_rows": null,
            "grid_column": null,
            "grid_gap": null,
            "grid_row": null,
            "grid_template_areas": null,
            "grid_template_columns": null,
            "grid_template_rows": null,
            "height": null,
            "justify_content": null,
            "justify_items": null,
            "left": null,
            "margin": null,
            "max_height": null,
            "max_width": null,
            "min_height": null,
            "min_width": null,
            "object_fit": null,
            "object_position": null,
            "order": null,
            "overflow": null,
            "overflow_x": null,
            "overflow_y": null,
            "padding": null,
            "right": null,
            "top": null,
            "visibility": null,
            "width": null
          }
        },
        "9b4fded1c99648889dd509b3c33e6036": {
          "model_module": "@jupyter-widgets/controls",
          "model_name": "DescriptionStyleModel",
          "model_module_version": "1.5.0",
          "state": {
            "_model_module": "@jupyter-widgets/controls",
            "_model_module_version": "1.5.0",
            "_model_name": "DescriptionStyleModel",
            "_view_count": null,
            "_view_module": "@jupyter-widgets/base",
            "_view_module_version": "1.2.0",
            "_view_name": "StyleView",
            "description_width": ""
          }
        },
        "6f2a55f77a9e44d89481bccc8a50172a": {
          "model_module": "@jupyter-widgets/controls",
          "model_name": "HBoxModel",
          "model_module_version": "1.5.0",
          "state": {
            "_dom_classes": [],
            "_model_module": "@jupyter-widgets/controls",
            "_model_module_version": "1.5.0",
            "_model_name": "HBoxModel",
            "_view_count": null,
            "_view_module": "@jupyter-widgets/controls",
            "_view_module_version": "1.5.0",
            "_view_name": "HBoxView",
            "box_style": "",
            "children": [
              "IPY_MODEL_960f94e199cd427f9e15f732a171d38c",
              "IPY_MODEL_2613f02808ea4b51b88bea5447d19e4d",
              "IPY_MODEL_83c53ca91706407ea4da9df045939d77"
            ],
            "layout": "IPY_MODEL_de191ddd1ade4249a1f1b4240d014099"
          }
        },
        "960f94e199cd427f9e15f732a171d38c": {
          "model_module": "@jupyter-widgets/controls",
          "model_name": "HTMLModel",
          "model_module_version": "1.5.0",
          "state": {
            "_dom_classes": [],
            "_model_module": "@jupyter-widgets/controls",
            "_model_module_version": "1.5.0",
            "_model_name": "HTMLModel",
            "_view_count": null,
            "_view_module": "@jupyter-widgets/controls",
            "_view_module_version": "1.5.0",
            "_view_name": "HTMLView",
            "description": "",
            "description_tooltip": null,
            "layout": "IPY_MODEL_4018c6efc70345988973f960be75fb18",
            "placeholder": "​",
            "style": "IPY_MODEL_7ffd1032cd174212a0b5060a6cd22de3",
            "value": "100%"
          }
        },
        "2613f02808ea4b51b88bea5447d19e4d": {
          "model_module": "@jupyter-widgets/controls",
          "model_name": "FloatProgressModel",
          "model_module_version": "1.5.0",
          "state": {
            "_dom_classes": [],
            "_model_module": "@jupyter-widgets/controls",
            "_model_module_version": "1.5.0",
            "_model_name": "FloatProgressModel",
            "_view_count": null,
            "_view_module": "@jupyter-widgets/controls",
            "_view_module_version": "1.5.0",
            "_view_name": "ProgressView",
            "bar_style": "success",
            "description": "",
            "description_tooltip": null,
            "layout": "IPY_MODEL_904b418d46344fceb5260f914c29373d",
            "max": 10000,
            "min": 0,
            "orientation": "horizontal",
            "style": "IPY_MODEL_6b5fab23a10e4863ad86673e0ab329ad",
            "value": 10000
          }
        },
        "83c53ca91706407ea4da9df045939d77": {
          "model_module": "@jupyter-widgets/controls",
          "model_name": "HTMLModel",
          "model_module_version": "1.5.0",
          "state": {
            "_dom_classes": [],
            "_model_module": "@jupyter-widgets/controls",
            "_model_module_version": "1.5.0",
            "_model_name": "HTMLModel",
            "_view_count": null,
            "_view_module": "@jupyter-widgets/controls",
            "_view_module_version": "1.5.0",
            "_view_name": "HTMLView",
            "description": "",
            "description_tooltip": null,
            "layout": "IPY_MODEL_c0243761550f42f6b6e6d5c286270cfc",
            "placeholder": "​",
            "style": "IPY_MODEL_7ebc3ff25dfb403093a1e4093e162fb2",
            "value": " 10000/10000 [03:20&lt;00:00, 56.51it/s]"
          }
        },
        "de191ddd1ade4249a1f1b4240d014099": {
          "model_module": "@jupyter-widgets/base",
          "model_name": "LayoutModel",
          "model_module_version": "1.2.0",
          "state": {
            "_model_module": "@jupyter-widgets/base",
            "_model_module_version": "1.2.0",
            "_model_name": "LayoutModel",
            "_view_count": null,
            "_view_module": "@jupyter-widgets/base",
            "_view_module_version": "1.2.0",
            "_view_name": "LayoutView",
            "align_content": null,
            "align_items": null,
            "align_self": null,
            "border": null,
            "bottom": null,
            "display": null,
            "flex": null,
            "flex_flow": null,
            "grid_area": null,
            "grid_auto_columns": null,
            "grid_auto_flow": null,
            "grid_auto_rows": null,
            "grid_column": null,
            "grid_gap": null,
            "grid_row": null,
            "grid_template_areas": null,
            "grid_template_columns": null,
            "grid_template_rows": null,
            "height": null,
            "justify_content": null,
            "justify_items": null,
            "left": null,
            "margin": null,
            "max_height": null,
            "max_width": null,
            "min_height": null,
            "min_width": null,
            "object_fit": null,
            "object_position": null,
            "order": null,
            "overflow": null,
            "overflow_x": null,
            "overflow_y": null,
            "padding": null,
            "right": null,
            "top": null,
            "visibility": null,
            "width": null
          }
        },
        "4018c6efc70345988973f960be75fb18": {
          "model_module": "@jupyter-widgets/base",
          "model_name": "LayoutModel",
          "model_module_version": "1.2.0",
          "state": {
            "_model_module": "@jupyter-widgets/base",
            "_model_module_version": "1.2.0",
            "_model_name": "LayoutModel",
            "_view_count": null,
            "_view_module": "@jupyter-widgets/base",
            "_view_module_version": "1.2.0",
            "_view_name": "LayoutView",
            "align_content": null,
            "align_items": null,
            "align_self": null,
            "border": null,
            "bottom": null,
            "display": null,
            "flex": null,
            "flex_flow": null,
            "grid_area": null,
            "grid_auto_columns": null,
            "grid_auto_flow": null,
            "grid_auto_rows": null,
            "grid_column": null,
            "grid_gap": null,
            "grid_row": null,
            "grid_template_areas": null,
            "grid_template_columns": null,
            "grid_template_rows": null,
            "height": null,
            "justify_content": null,
            "justify_items": null,
            "left": null,
            "margin": null,
            "max_height": null,
            "max_width": null,
            "min_height": null,
            "min_width": null,
            "object_fit": null,
            "object_position": null,
            "order": null,
            "overflow": null,
            "overflow_x": null,
            "overflow_y": null,
            "padding": null,
            "right": null,
            "top": null,
            "visibility": null,
            "width": null
          }
        },
        "7ffd1032cd174212a0b5060a6cd22de3": {
          "model_module": "@jupyter-widgets/controls",
          "model_name": "DescriptionStyleModel",
          "model_module_version": "1.5.0",
          "state": {
            "_model_module": "@jupyter-widgets/controls",
            "_model_module_version": "1.5.0",
            "_model_name": "DescriptionStyleModel",
            "_view_count": null,
            "_view_module": "@jupyter-widgets/base",
            "_view_module_version": "1.2.0",
            "_view_name": "StyleView",
            "description_width": ""
          }
        },
        "904b418d46344fceb5260f914c29373d": {
          "model_module": "@jupyter-widgets/base",
          "model_name": "LayoutModel",
          "model_module_version": "1.2.0",
          "state": {
            "_model_module": "@jupyter-widgets/base",
            "_model_module_version": "1.2.0",
            "_model_name": "LayoutModel",
            "_view_count": null,
            "_view_module": "@jupyter-widgets/base",
            "_view_module_version": "1.2.0",
            "_view_name": "LayoutView",
            "align_content": null,
            "align_items": null,
            "align_self": null,
            "border": null,
            "bottom": null,
            "display": null,
            "flex": null,
            "flex_flow": null,
            "grid_area": null,
            "grid_auto_columns": null,
            "grid_auto_flow": null,
            "grid_auto_rows": null,
            "grid_column": null,
            "grid_gap": null,
            "grid_row": null,
            "grid_template_areas": null,
            "grid_template_columns": null,
            "grid_template_rows": null,
            "height": null,
            "justify_content": null,
            "justify_items": null,
            "left": null,
            "margin": null,
            "max_height": null,
            "max_width": null,
            "min_height": null,
            "min_width": null,
            "object_fit": null,
            "object_position": null,
            "order": null,
            "overflow": null,
            "overflow_x": null,
            "overflow_y": null,
            "padding": null,
            "right": null,
            "top": null,
            "visibility": null,
            "width": null
          }
        },
        "6b5fab23a10e4863ad86673e0ab329ad": {
          "model_module": "@jupyter-widgets/controls",
          "model_name": "ProgressStyleModel",
          "model_module_version": "1.5.0",
          "state": {
            "_model_module": "@jupyter-widgets/controls",
            "_model_module_version": "1.5.0",
            "_model_name": "ProgressStyleModel",
            "_view_count": null,
            "_view_module": "@jupyter-widgets/base",
            "_view_module_version": "1.2.0",
            "_view_name": "StyleView",
            "bar_color": null,
            "description_width": ""
          }
        },
        "c0243761550f42f6b6e6d5c286270cfc": {
          "model_module": "@jupyter-widgets/base",
          "model_name": "LayoutModel",
          "model_module_version": "1.2.0",
          "state": {
            "_model_module": "@jupyter-widgets/base",
            "_model_module_version": "1.2.0",
            "_model_name": "LayoutModel",
            "_view_count": null,
            "_view_module": "@jupyter-widgets/base",
            "_view_module_version": "1.2.0",
            "_view_name": "LayoutView",
            "align_content": null,
            "align_items": null,
            "align_self": null,
            "border": null,
            "bottom": null,
            "display": null,
            "flex": null,
            "flex_flow": null,
            "grid_area": null,
            "grid_auto_columns": null,
            "grid_auto_flow": null,
            "grid_auto_rows": null,
            "grid_column": null,
            "grid_gap": null,
            "grid_row": null,
            "grid_template_areas": null,
            "grid_template_columns": null,
            "grid_template_rows": null,
            "height": null,
            "justify_content": null,
            "justify_items": null,
            "left": null,
            "margin": null,
            "max_height": null,
            "max_width": null,
            "min_height": null,
            "min_width": null,
            "object_fit": null,
            "object_position": null,
            "order": null,
            "overflow": null,
            "overflow_x": null,
            "overflow_y": null,
            "padding": null,
            "right": null,
            "top": null,
            "visibility": null,
            "width": null
          }
        },
        "7ebc3ff25dfb403093a1e4093e162fb2": {
          "model_module": "@jupyter-widgets/controls",
          "model_name": "DescriptionStyleModel",
          "model_module_version": "1.5.0",
          "state": {
            "_model_module": "@jupyter-widgets/controls",
            "_model_module_version": "1.5.0",
            "_model_name": "DescriptionStyleModel",
            "_view_count": null,
            "_view_module": "@jupyter-widgets/base",
            "_view_module_version": "1.2.0",
            "_view_name": "StyleView",
            "description_width": ""
          }
        }
      }
    }
  },
  "cells": [
    {
      "cell_type": "markdown",
      "source": [
        "# HW3\n",
        "\n",
        "Yael Zorea - 209308675\n",
        "\n",
        "Ilay Yoeli - 318260965\n",
        "\n",
        "Yarden Greenpeter - 318517653\n"
      ],
      "metadata": {
        "id": "tU_EcjTbpPWR"
      }
    },
    {
      "cell_type": "code",
      "source": [
        "import numpy as np\n",
        "import itertools\n",
        "import matplotlib.pyplot as plt\n",
        "from tqdm.auto import tqdm"
      ],
      "metadata": {
        "id": "X_lZOqRqrwxR"
      },
      "execution_count": 15,
      "outputs": []
    },
    {
      "cell_type": "markdown",
      "source": [
        "## 1.1 The Clique Functions in the Ising Model"
      ],
      "metadata": {
        "id": "foETcHXRrvwv"
      }
    },
    {
      "cell_type": "code",
      "execution_count": 16,
      "metadata": {
        "id": "EGZqXvxTpOaQ"
      },
      "outputs": [],
      "source": [
        "# Ex1\n",
        "def G(row_s, Temp):\n",
        "    return np.exp((1/Temp) * np.sum(row_s[:-1] * row_s[1:]))\n",
        "\n",
        "# Ex2\n",
        "def F(row_s, row_t, Temp):\n",
        "    return np.exp((1/Temp) * np.sum(row_s * row_t))"
      ]
    },
    {
      "cell_type": "markdown",
      "source": [
        "## 1.2 Brute Force on Small Lattices"
      ],
      "metadata": {
        "id": "rASSDCGzrXFx"
      }
    },
    {
      "cell_type": "code",
      "source": [
        "#Ex3\n",
        "def compute_Z_2x2(Temp):\n",
        "    Z = 0\n",
        "    for x11 in [-1, 1]:\n",
        "        for x12 in [-1, 1]:\n",
        "            for x21 in [-1, 1]:\n",
        "                for x22 in [-1, 1]:\n",
        "                    row1 = np.array([x11, x12])\n",
        "                    row2 = np.array([x21, x22])\n",
        "                    Z += G(row1, Temp) * G(row2, Temp) * F(row1, row2, Temp)\n",
        "    return Z\n",
        "\n",
        "# Compute for three temperatures\n",
        "for Temp in [1, 1.5, 2]:\n",
        "    Z = compute_Z_2x2(Temp)\n",
        "    print(f\"Z_Temp for 2x2 lattice at Temp={Temp}: {Z}\")\n"
      ],
      "metadata": {
        "colab": {
          "base_uri": "https://localhost:8080/",
          "height": 0
        },
        "id": "-eMQ9izLrXkv",
        "outputId": "17c6cdd4-3897-481f-fcda-4df080dda824"
      },
      "execution_count": 17,
      "outputs": [
        {
          "output_type": "stream",
          "name": "stdout",
          "text": [
            "Z_Temp for 2x2 lattice at Temp=1: 121.23293134406595\n",
            "Z_Temp for 2x2 lattice at Temp=1.5: 40.922799092745386\n",
            "Z_Temp for 2x2 lattice at Temp=2: 27.048782764334526\n"
          ]
        }
      ]
    },
    {
      "cell_type": "code",
      "source": [
        "#Ex4\n",
        "def compute_Z_3x3(Temp):\n",
        "    Z = 0\n",
        "    for x11 in [-1, 1]:\n",
        "        for x12 in [-1, 1]:\n",
        "            for x13 in [-1, 1]:\n",
        "                for x21 in [-1, 1]:\n",
        "                    for x22 in [-1, 1]:\n",
        "                        for x23 in [-1, 1]:\n",
        "                            for x31 in [-1, 1]:\n",
        "                                for x32 in [-1, 1]:\n",
        "                                    for x33 in [-1, 1]:\n",
        "                                        row1 = np.array([x11, x12, x13])\n",
        "                                        row2 = np.array([x21, x22, x23])\n",
        "                                        row3 = np.array([x31, x32, x33])\n",
        "                                        Z += (G(row1, Temp) * G(row2, Temp) * G(row3, Temp) *\n",
        "                                              F(row1, row2, Temp) * F(row2, row3, Temp))\n",
        "    return Z\n",
        "\n",
        "# Compute for three temperatures\n",
        "for Temp in [1, 1.5, 2]:\n",
        "    Z = compute_Z_3x3(Temp)\n",
        "    print(f\"Z_Temp for 3x3 lattice at Temp={Temp}: {Z}\")"
      ],
      "metadata": {
        "colab": {
          "base_uri": "https://localhost:8080/",
          "height": 0
        },
        "id": "YhJwXSMzrsre",
        "outputId": "4bb140e3-b48e-48c2-f5dd-d01496da0fde"
      },
      "execution_count": 18,
      "outputs": [
        {
          "output_type": "stream",
          "name": "stdout",
          "text": [
            "Z_Temp for 3x3 lattice at Temp=1: 365645.7491357704\n",
            "Z_Temp for 3x3 lattice at Temp=1.5: 10565.421983514265\n",
            "Z_Temp for 3x3 lattice at Temp=2: 2674.518123060087\n"
          ]
        }
      ]
    },
    {
      "cell_type": "code",
      "source": [
        "# Helping function computes the ys → (x(s,i)) i=1to8 mapping.\n",
        "def y2row(y,width=8):\n",
        "  \"\"\"\n",
        "  y: an integer in (0,...,(2**width)-1)\n",
        "  \"\"\"\n",
        "  if not 0<=y<=(2**width)-1:\n",
        "    raise ValueError(y)\n",
        "  my_str=np.binary_repr(y,width=width)\n",
        "  # my_list = map(int,my_str) # Python 2\n",
        "  my_list = list(map(int,my_str)) # Python 3\n",
        "  my_array = np.asarray(my_list)\n",
        "  my_array[my_array==0]=-1\n",
        "  row=my_array\n",
        "  return row"
      ],
      "metadata": {
        "id": "fmVYh0PFvKHH"
      },
      "execution_count": 19,
      "outputs": []
    },
    {
      "cell_type": "code",
      "source": [
        "# Ex5\n",
        "def compute_Z_2x2_chain(Temp):\n",
        "    Z = 0\n",
        "    for y1 in range(4):\n",
        "        for y2 in range(4):\n",
        "            row1 = y2row(y1, width=2)\n",
        "            row2 = y2row(y2, width=2)\n",
        "            Z += G(row1, Temp) * G(row2, Temp) * F(row1, row2, Temp)\n",
        "    return Z\n",
        "\n",
        "# Compute for three temperatures\n",
        "for Temp in [1, 1.5, 2]:\n",
        "    Z = compute_Z_2x2_chain(Temp)\n",
        "    print(f\"Z_Temp for 2x2 lattice (chain) at Temp={Temp}: {Z}\")"
      ],
      "metadata": {
        "colab": {
          "base_uri": "https://localhost:8080/",
          "height": 0
        },
        "id": "C3WygWxuxL1a",
        "outputId": "fd5eb84f-d13e-4037-dae9-2118e8174a37"
      },
      "execution_count": 20,
      "outputs": [
        {
          "output_type": "stream",
          "name": "stdout",
          "text": [
            "Z_Temp for 2x2 lattice (chain) at Temp=1: 121.23293134406595\n",
            "Z_Temp for 2x2 lattice (chain) at Temp=1.5: 40.922799092745386\n",
            "Z_Temp for 2x2 lattice (chain) at Temp=2: 27.048782764334526\n"
          ]
        }
      ]
    },
    {
      "cell_type": "code",
      "source": [
        "# Ex6\n",
        "def compute_Z_3x3_chain(Temp):\n",
        "    Z = 0\n",
        "    for y1 in range(8):\n",
        "        for y2 in range(8):\n",
        "            for y3 in range(8):\n",
        "                row1 = y2row(y1, width=3)\n",
        "                row2 = y2row(y2, width=3)\n",
        "                row3 = y2row(y3, width=3)\n",
        "                Z += (G(row1, Temp) * G(row2, Temp) * G(row3, Temp) *\n",
        "                      F(row1, row2, Temp) * F(row2, row3, Temp))\n",
        "    return Z\n",
        "\n",
        "# Compute for three temperatures\n",
        "for Temp in [1, 1.5, 2]:\n",
        "    Z = compute_Z_3x3_chain(Temp)\n",
        "    print(f\"Z_Temp for 3x3 lattice (chain) at Temp={Temp}: {Z}\")"
      ],
      "metadata": {
        "colab": {
          "base_uri": "https://localhost:8080/",
          "height": 0
        },
        "id": "OlfxrsM9ygIQ",
        "outputId": "5512cea6-640f-4ca1-a1a9-ff18f52e0a73"
      },
      "execution_count": 21,
      "outputs": [
        {
          "output_type": "stream",
          "name": "stdout",
          "text": [
            "Z_Temp for 3x3 lattice (chain) at Temp=1: 365645.7491357704\n",
            "Z_Temp for 3x3 lattice (chain) at Temp=1.5: 10565.421983514265\n",
            "Z_Temp for 3x3 lattice (chain) at Temp=2: 2674.518123060087\n"
          ]
        }
      ]
    },
    {
      "cell_type": "markdown",
      "source": [
        "## 1.3 Dynamic Programming on an 8×8 Lattice"
      ],
      "metadata": {
        "id": "xs_Qz25sylgZ"
      }
    },
    {
      "cell_type": "code",
      "source": [
        "import numpy as np\n",
        "from scipy.special import logsumexp\n",
        "\n",
        "def exact_sampler(Temp):\n",
        "    # Forward pass\n",
        "    T = [np.zeros(256, dtype=np.float64) for _ in range(8)] # List of 8 arrays, each of size 256\n",
        "\n",
        "    # Initialize T1\n",
        "    y_rows = np.array([y2row(y) for y in range(256)])\n",
        "    G_values = (1/Temp) * np.sum(y_rows[:, :-1] * y_rows[:, 1:], axis=1)\n",
        "    F_values = (1/Temp) * np.dot(y_rows, y_rows.T)\n",
        "\n",
        "    T[0] = logsumexp(G_values[:, np.newaxis] + F_values, axis=0) # Eqution (18)\n",
        "    # log(a + b) = log(exp(log(a)) + exp(log(b))) = max(log(a), log(b)) + log(1 + exp(min(log(a), log(b)) - max(log(a), log(b))))\n",
        "\n",
        "    # Compute T2 to T7\n",
        "    for k in range(1, 7):\n",
        "        T[k] = logsumexp(T[k-1][:, np.newaxis] + G_values[:, np.newaxis] + F_values, axis=0) # Eqution (19)\n",
        "        # computes log(sum(exp(T[k-1] + G + F))) for each possible state\n",
        "\n",
        "    # Compute T8 (Z_Temp) --> Equation (20)\n",
        "    log_Z_Temp = logsumexp(T[6] + G_values)\n",
        "\n",
        "    # Backward pass (sampling)\n",
        "    sample = np.zeros((8, 8), dtype=int)\n",
        "\n",
        "    # Compute p8 --> Equation (21)\n",
        "    log_p8 = T[6] + G_values - log_Z_Temp\n",
        "    p8 = np.exp(log_p8)\n",
        "\n",
        "    # Compute conditional probabilities p7|8 to p1|2 --> Equations (22)\n",
        "    conditionals = [np.zeros((256, 256), dtype=np.float64) for _ in range(7)]\n",
        "    for k in range(6, -1, -1):\n",
        "        log_conditionals = (T[k-1][:, np.newaxis] + G_values[:, np.newaxis] + F_values) - T[k]\n",
        "        conditionals[k] = np.exp(log_conditionals)\n",
        "\n",
        "    # Compute p1|2 --> Equation (23)\n",
        "    log_conditionals = (G_values[:, np.newaxis] + F_values) - T[0]\n",
        "    conditionals[0] = np.exp(log_conditionals)\n",
        "\n",
        "    # Sampling\n",
        "    y8 = np.random.choice(256, p=p8) # select a single value from a set of possibilities based on a probability distribution\n",
        "    sample[7] = y2row(y8)\n",
        "\n",
        "    for k in range(6, -1, -1):\n",
        "        y_k = np.random.choice(256, p=conditionals[k][:, y8])\n",
        "        sample[k] = y2row(y_k)\n",
        "        y8 = y_k # For the next iteration\n",
        "\n",
        "    return sample"
      ],
      "metadata": {
        "id": "kALpAqX6RXXA"
      },
      "execution_count": 22,
      "outputs": []
    },
    {
      "cell_type": "code",
      "source": [
        "# Generate 10 samples for each temperature\n",
        "temperatures = [1, 1.5, 2]\n",
        "n_samples = 10\n",
        "\n",
        "fig, axes = plt.subplots(3, 10, figsize=(20, 8))\n",
        "\n",
        "for i, Temp in enumerate(temperatures):\n",
        "    for j in range(n_samples):\n",
        "        #print(f\"Temp = {Temp}, sample number {j+1}\")\n",
        "        sample = exact_sampler(Temp)\n",
        "        axes[i, j].imshow(sample, cmap='binary', interpolation='None', vmin=-1, vmax=1)\n",
        "        axes[i, j].axis('off')\n",
        "        #axes[i, j].set_title(f'Sample {j+1}', fontsize=10)\n",
        "\n",
        "# Add an overall title to the figure\n",
        "fig.suptitle('Samples from Exact Sampler at Different Temperatures', fontsize=16, y=1)\n",
        "\n",
        "# Adjust layout to prevent overlapping\n",
        "plt.tight_layout()\n",
        "\n",
        "# Show the plot\n",
        "plt.show()"
      ],
      "metadata": {
        "colab": {
          "base_uri": "https://localhost:8080/",
          "height": 558
        },
        "id": "nYk7FaDd9wL2",
        "outputId": "ec534956-d2a4-419f-f9ab-b31417e1e2b2"
      },
      "execution_count": 23,
      "outputs": [
        {
          "output_type": "display_data",
          "data": {
            "text/plain": [
              "<Figure size 2000x800 with 30 Axes>"
            ],
            "image/png": "[encoded data removed]"
          },
          "metadata": {}
        }
      ]
    },
    {
      "cell_type": "markdown",
      "source": [
        "## Problem 1\n",
        "```\n",
        "python2 -c \"print [1/Temp for Temp in [1,1.5,2]]\"\n",
        "python3 -c \"print ([1/Temp for Temp in [1,1.5,2]])\"\n",
        "```\n",
        "\n",
        "The reason for the error is that in Python 2, the division of two integers results in integer division (floor division), which discards the decimal part.  So, 1/2 would equal 0 in Python 2.\n",
        "\n",
        "For Temp = 1 and Temp = 1.5, the results would be correct in both Python 2 and 3, as 1/1 = 1 and 1/1.5 ≈ 0.667 in both versions. For Temp = 1, it's true because 1/1 is 1 both in int devision and float devision. For Temp = 1.5 we also get the expected results. That is because in Python 2, when dividing an integer by a float (or vice versa), the result is a float.\n",
        "\n",
        "For Temp = 2, in Python 2, 1/2 would evaluate to 0, where as in Python 3, it would correctly evaluate to 0.5. So that explains why the samples appeared completely random with no structure.\n",
        "\n",
        "So for Temp = 2 with Python 2, instead of sampling from the Ising model distribution, the student's code is likely sampling from a uniform distribution over all possible 8x8 binary images. This is due to the programming bug (using Python 2's integer division) that effectively sets the inverse temperature to 0 for Temp = 2, removing all structure from the Ising model and resulting in uniform random sampling."
      ],
      "metadata": {
        "id": "tWbgt94Ug9vD"
      }
    },
    {
      "cell_type": "code",
      "source": [
        "# EX8\n",
        "n_samples = 10000\n",
        "\n",
        "for Temp in temperatures:\n",
        "      print(f\"Processing Temperature: {Temp}\")\n",
        "      # Initialize arrays to store the products\n",
        "      sum_1_1_2_2 = 0\n",
        "      sum_1_1_8_8 = 0\n",
        "\n",
        "      for j in tqdm(range(n_samples)):\n",
        "          sample = exact_sampler(Temp)\n",
        "\n",
        "          # Compute the products for each sample\n",
        "          sum_1_1_2_2 += sample[0, 0] * sample[1, 1]\n",
        "          sum_1_1_8_8 += sample[0, 0] * sample[7, 7]\n",
        "\n",
        "      # Compute empirical expectations\n",
        "      E_1_1_2_2 = sum_1_1_2_2 / n_samples\n",
        "      E_1_1_8_8 = sum_1_1_8_8 / n_samples\n",
        "\n",
        "      print(f\"E_Temp(X(1,1)X(2,2)) ≈ {E_1_1_2_2:.4f}\")\n",
        "      print(f\"E_Temp(X(1,1)X(8,8)) ≈ {E_1_1_8_8:.4f}\")\n",
        "      print()\n"
      ],
      "metadata": {
        "colab": {
          "base_uri": "https://localhost:8080/",
          "height": 321,
          "referenced_widgets": [
            "ad78f6f8bc9a44d3be7def0746b0b2b4",
            "7dbc881a3e9643f29760fb0e87b24a5d",
            "702786cbbc884d1f97d2924dfbc59642",
            "ca36faba1d2d48c383518e192df3ab44",
            "ca652acd58d443deb6cd4e78adea4bd6",
            "e8d0f161ca434d4391edc4c9a4cb5cfe",
            "72eaf8558b124aef850d499315a00da7",
            "1b058be85d7946fb9386ed04d565701e",
            "91a1c26c079f4e6db67a7a237eec3fa3",
            "8eaa30615cc34efcac22ace3dd56febf",
            "6f7497aaa32f46fcbbba104187888e78",
            "1123a7d0ed1947829868193bbd0a76d8",
            "3ced2550a0bc46e5bdd3744a91731042",
            "cbd07ef6b3c34604bfabd036c0c35e1a",
            "7353fff71769475bafc39a5950a637f9",
            "a6675734d8614027a2302d97146860e8",
            "bef097eac72a4133bfe2f8353f9ebbf1",
            "dc3a3941ba1e431aaed96fbb5b352c6d",
            "04aa281a330345f29961505f6fe702e9",
            "603b138e78af4faf9c12c8aa29e984cc",
            "8e6e68e9f24545efa54b6d1a65084f6c",
            "9b4fded1c99648889dd509b3c33e6036",
            "6f2a55f77a9e44d89481bccc8a50172a",
            "960f94e199cd427f9e15f732a171d38c",
            "2613f02808ea4b51b88bea5447d19e4d",
            "83c53ca91706407ea4da9df045939d77",
            "de191ddd1ade4249a1f1b4240d014099",
            "4018c6efc70345988973f960be75fb18",
            "7ffd1032cd174212a0b5060a6cd22de3",
            "904b418d46344fceb5260f914c29373d",
            "6b5fab23a10e4863ad86673e0ab329ad",
            "c0243761550f42f6b6e6d5c286270cfc",
            "7ebc3ff25dfb403093a1e4093e162fb2"
          ]
        },
        "id": "jURZ_SCyiDND",
        "outputId": "9aa41f04-042b-4fa4-a5c1-67bc2ec92a0e"
      },
      "execution_count": 24,
      "outputs": [
        {
          "output_type": "stream",
          "name": "stdout",
          "text": [
            "Processing Temperature: 1\n"
          ]
        },
        {
          "output_type": "display_data",
          "data": {
            "text/plain": [
              "  0%|          | 0/10000 [00:00<?, ?it/s]"
            ],
            "application/vnd.jupyter.widget-view+json": {
              "version_major": 2,
              "version_minor": 0,
              "model_id": "ad78f6f8bc9a44d3be7def0746b0b2b4"
            }
          },
          "metadata": {}
        },
        {
          "output_type": "stream",
          "name": "stdout",
          "text": [
            "E_Temp(X(1,1)X(2,2)) ≈ 0.9530\n",
            "E_Temp(X(1,1)X(8,8)) ≈ 0.9112\n",
            "\n",
            "Processing Temperature: 1.5\n"
          ]
        },
        {
          "output_type": "display_data",
          "data": {
            "text/plain": [
              "  0%|          | 0/10000 [00:00<?, ?it/s]"
            ],
            "application/vnd.jupyter.widget-view+json": {
              "version_major": 2,
              "version_minor": 0,
              "model_id": "1123a7d0ed1947829868193bbd0a76d8"
            }
          },
          "metadata": {}
        },
        {
          "output_type": "stream",
          "name": "stdout",
          "text": [
            "E_Temp(X(1,1)X(2,2)) ≈ 0.7610\n",
            "E_Temp(X(1,1)X(8,8)) ≈ 0.5532\n",
            "\n",
            "Processing Temperature: 2\n"
          ]
        },
        {
          "output_type": "display_data",
          "data": {
            "text/plain": [
              "  0%|          | 0/10000 [00:00<?, ?it/s]"
            ],
            "application/vnd.jupyter.widget-view+json": {
              "version_major": 2,
              "version_minor": 0,
              "model_id": "6f2a55f77a9e44d89481bccc8a50172a"
            }
          },
          "metadata": {}
        },
        {
          "output_type": "stream",
          "name": "stdout",
          "text": [
            "E_Temp(X(1,1)X(2,2)) ≈ 0.5022\n",
            "E_Temp(X(1,1)X(8,8)) ≈ 0.1268\n",
            "\n"
          ]
        }
      ]
    },
    {
      "cell_type": "markdown",
      "source": [
        "## Problem 2\n",
        "\n",
        "Based on the results received in Computer Exercise 8, we can explain the relative values of the expectations in terms of spatial distance and temperature.\n",
        "\n",
        "**Effect of spatial distance:**\n",
        "\n",
        "For all temperatures, we observe that $\\hat{E}_{Temp}(X(1,1),X(2,2))$ is consistently higher than  $\\hat{E}_{Temp}(X(1,1),X(8,8))$. This is because (1,1) and (2,2) are closer together in the lattice compared to (1,1) and (8,8).\n",
        "The Ising model encourages neighboring sites to have the same value. As the distance between sites increases, this correlation weakens. Therefore, we expect sites that are closer together (like (1,1) and (2,2)) to be more correlated than sites that are far apart (like (1,1) and (8,8)).\n",
        "\n",
        "**Effect of temperature:**\n",
        "\n",
        "As the temperature increases from 1 to 1.5 to 2, we see that both $\\hat{E}_{Temp}(X(1,1),X(2,2))$ and $\\hat{E}_{Temp}(X(1,1),X(8,8))$ decrease.\n",
        "At lower temperatures (e.g., Temp = 1), the system tends to be more ordered, with stronger correlations between sites. This results in higher values for both expectations.\n",
        "As the temperature increases, the system becomes more disordered. The thermal energy overcomes the tendency for neighboring sites to align, resulting in weaker correlations. This is why we see lower values for both expectations at higher temperatures."
      ],
      "metadata": {
        "id": "b601wdIp7cR2"
      }
    }
  ]
}